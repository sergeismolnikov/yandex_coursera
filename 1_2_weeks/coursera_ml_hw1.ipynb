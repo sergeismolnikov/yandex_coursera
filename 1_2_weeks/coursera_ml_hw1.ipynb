{
 "cells": [
  {
   "cell_type": "code",
   "execution_count": 5,
   "id": "dd942004",
   "metadata": {},
   "outputs": [],
   "source": [
    "import numpy \n",
    "import scipy\n",
    "import pandas\n",
    "import matplotlib"
   ]
  },
  {
   "cell_type": "code",
   "execution_count": 6,
   "id": "f3aab01e",
   "metadata": {},
   "outputs": [
    {
     "data": {
      "text/plain": [
       "'1.20.3'"
      ]
     },
     "execution_count": 6,
     "metadata": {},
     "output_type": "execute_result"
    }
   ],
   "source": [
    "numpy.__version__"
   ]
  },
  {
   "cell_type": "code",
   "execution_count": 7,
   "id": "be374bf3",
   "metadata": {},
   "outputs": [
    {
     "data": {
      "text/plain": [
       "'1.6.3'"
      ]
     },
     "execution_count": 7,
     "metadata": {},
     "output_type": "execute_result"
    }
   ],
   "source": [
    "scipy.__version__"
   ]
  },
  {
   "cell_type": "code",
   "execution_count": 8,
   "id": "f912501c",
   "metadata": {},
   "outputs": [
    {
     "data": {
      "text/plain": [
       "'1.2.4'"
      ]
     },
     "execution_count": 8,
     "metadata": {},
     "output_type": "execute_result"
    }
   ],
   "source": [
    "pandas.__version__"
   ]
  },
  {
   "cell_type": "code",
   "execution_count": 9,
   "id": "b683ca1c",
   "metadata": {},
   "outputs": [
    {
     "data": {
      "text/plain": [
       "'3.4.2'"
      ]
     },
     "execution_count": 9,
     "metadata": {},
     "output_type": "execute_result"
    }
   ],
   "source": [
    "matplotlib.__version__"
   ]
  },
  {
   "cell_type": "code",
   "execution_count": null,
   "id": "de79fc27",
   "metadata": {},
   "outputs": [],
   "source": [
    "В файле создайте новую ячейку и измените её тип на Markdown.\n",
    "В первой строке созданной ячейки наберите название специализации “Машинное обучение и анализ данных” и сделайте эту строку заголовком уровня 1.\n",
    "В следующей строке созданной ячейки наберите название нашего курса “Математика и Python” и сделайте строку заголовком уровня 2.\n",
    "В третьей строке ячейки наберите текст \"Задание 1\".\n",
    "Запустите выполнение ячейки.\n",
    "Сделайте скриншот №2, на котором будет хорошо видно результаты вашей работы, и загрузите его в форму.\n"
   ]
  },
  {
   "cell_type": "markdown",
   "id": "3b426286",
   "metadata": {},
   "source": [
    "# “Машинное обучение и анализ данных”\n",
    "## “Математика и Python”\n",
    "\"Задание 1\""
   ]
  },
  {
   "cell_type": "code",
   "execution_count": 13,
   "id": "643926d8",
   "metadata": {},
   "outputs": [
    {
     "name": "stdout",
     "output_type": "stream",
     "text": [
      "5\n",
      "6\n",
      "7\n",
      "8\n",
      "9\n",
      "10\n",
      "11\n",
      "12\n",
      "13\n"
     ]
    }
   ],
   "source": [
    "for i in range(5, 14):\n",
    "    print (i)"
   ]
  },
  {
   "cell_type": "code",
   "execution_count": 15,
   "id": "e112d87e",
   "metadata": {},
   "outputs": [
    {
     "data": {
      "text/plain": [
       "generator"
      ]
     },
     "execution_count": 15,
     "metadata": {},
     "output_type": "execute_result"
    }
   ],
   "source": [
    "n = (i for i in range(99))\n",
    "type(n)"
   ]
  },
  {
   "cell_type": "code",
   "execution_count": 16,
   "id": "9591b875",
   "metadata": {},
   "outputs": [
    {
     "data": {
      "text/plain": [
       "'0 1 0 1'"
      ]
     },
     "execution_count": 16,
     "metadata": {},
     "output_type": "execute_result"
    }
   ],
   "source": [
    "\" \".join([str(x ** 2 % 2) for x in range(4)])"
   ]
  },
  {
   "cell_type": "code",
   "execution_count": null,
   "id": "422a92cf",
   "metadata": {},
   "outputs": [],
   "source": []
  }
 ],
 "metadata": {
  "kernelspec": {
   "display_name": "Python 3",
   "language": "python",
   "name": "python3"
  },
  "language_info": {
   "codemirror_mode": {
    "name": "ipython",
    "version": 3
   },
   "file_extension": ".py",
   "mimetype": "text/x-python",
   "name": "python",
   "nbconvert_exporter": "python",
   "pygments_lexer": "ipython3",
   "version": "3.9.5"
  }
 },
 "nbformat": 4,
 "nbformat_minor": 5
}
